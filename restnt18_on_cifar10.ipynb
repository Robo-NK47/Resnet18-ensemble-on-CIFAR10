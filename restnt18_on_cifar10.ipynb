{
 "cells": [
  {
   "cell_type": "markdown",
   "metadata": {
    "id": "bjvCnN6Vhb5I",
    "pycharm": {
     "name": "#%% md\n"
    }
   },
   "source": [
    "Import of all relevant dependencies"
   ]
  },
  {
   "cell_type": "code",
   "execution_count": 11,
   "metadata": {
    "colab": {
     "base_uri": "https://localhost:8080/",
     "height": 908
    },
    "id": "ocjVefelg8jY",
    "outputId": "992fa9ea-9678-44f6-b83d-d0791da997c8",
    "pycharm": {
     "name": "#%%\n"
    }
   },
   "outputs": [
    {
     "output_type": "stream",
     "name": "stdout",
     "text": [
      "The tensorboard extension is already loaded. To reload it, use:\n",
      "  %reload_ext tensorboard\n"
     ]
    },
    {
     "output_type": "display_data",
     "data": {
      "text/plain": [
       "Reusing TensorBoard on port 6006 (pid 539), started 0:45:59 ago. (Use '!kill 539' to kill it.)"
      ]
     },
     "metadata": {}
    },
    {
     "output_type": "display_data",
     "data": {
      "application/javascript": [
       "\n",
       "        (async () => {\n",
       "            const url = new URL(await google.colab.kernel.proxyPort(6006, {'cache': true}));\n",
       "            url.searchParams.set('tensorboardColab', 'true');\n",
       "            const iframe = document.createElement('iframe');\n",
       "            iframe.src = url;\n",
       "            iframe.setAttribute('width', '100%');\n",
       "            iframe.setAttribute('height', '800');\n",
       "            iframe.setAttribute('frameborder', 0);\n",
       "            document.body.appendChild(iframe);\n",
       "        })();\n",
       "    "
      ],
      "text/plain": [
       "<IPython.core.display.Javascript object>"
      ]
     },
     "metadata": {}
    },
    {
     "output_type": "stream",
     "name": "stdout",
     "text": [
      "Known TensorBoard instances:\n",
      "  - port 6006: logdir logs (started 0:45:59 ago; pid 539)\n"
     ]
    }
   ],
   "source": [
    "%load_ext tensorboard\n",
    "#%tensorboard --logdir logs\n",
    "\n",
    "import torch \n",
    "import torch.nn as nn \n",
    "import torch.nn.functional as F\n",
    "import torchvision\n",
    "from torchvision import transforms\n",
    "import torchvision.models as models  \n",
    "import torchvision.datasets as datasets\n",
    "from torch.utils.tensorboard import SummaryWriter\n",
    "import torch.optim as optim\n",
    "import numpy as np\n",
    "from tqdm.auto import tqdm\n",
    "import pandas as pd\n",
    "import seaborn as sn\n",
    "\n",
    "writer = SummaryWriter('logs/' + str(np.random.randint(0,100000)))\n",
    "writer.close()\n",
    "\n",
    "#show tensorboard \n",
    "from tensorboard import notebook\n",
    "%tensorboard --logdir logs\n",
    "notebook.list() # View open TensorBoard instances\n",
    "# notebook.display(port=6006, height=1000) "
   ]
  },
  {
   "cell_type": "markdown",
   "metadata": {
    "id": "odCm7xCyjK7G",
    "pycharm": {
     "name": "#%% md\n"
    }
   },
   "source": [
    "Load Resnet18 and necessary transformers for training and test set"
   ]
  },
  {
   "cell_type": "code",
   "execution_count": 2,
   "metadata": {
    "id": "z4RjR8kUjLKk",
    "pycharm": {
     "name": "#%%\n"
    }
   },
   "outputs": [],
   "source": [
    "#Resnet was pre-trained on imageNet with 1000 classes\n",
    "resnet18 = models.resnet18(pretrained=True)\n",
    "writer.add_graph(resnet18, torch.zeros([64, 3, 7, 7]))\n",
    "\n",
    "#transformation with augmentation and CIFAR10 normalization, for training and test set\n",
    "transform_train = transforms.Compose([\n",
    "    transforms.RandomCrop(32, padding=8, padding_mode='reflect'),\n",
    "    transforms.RandomHorizontalFlip(),\n",
    "    transforms.ToTensor(),\n",
    "    transforms.Normalize((0.4914, 0.4822, 0.4465), (0.2023, 0.1994, 0.2010)),\n",
    "])\n",
    "\n",
    "transform_test = transforms.Compose([\n",
    "    transforms.ToTensor(),\n",
    "    transforms.Normalize((0.4914, 0.4822, 0.4465), (0.2023, 0.1994, 0.2010)),\n",
    "])"
   ]
  },
  {
   "cell_type": "markdown",
   "metadata": {
    "id": "TV9F87h_jcF7",
    "pycharm": {
     "name": "#%% md\n"
    }
   },
   "source": [
    "Load CIFAR 10 training and test set."
   ]
  },
  {
   "cell_type": "code",
   "execution_count": 3,
   "metadata": {
    "colab": {
     "base_uri": "https://localhost:8080/"
    },
    "id": "VGHdW57rjkTM",
    "outputId": "f14a0427-6e9c-4408-8574-fb06ecdfabaa",
    "pycharm": {
     "name": "#%%\n"
    }
   },
   "outputs": [
    {
     "output_type": "stream",
     "name": "stdout",
     "text": [
      "Files already downloaded and verified\n",
      "Files already downloaded and verified\n"
     ]
    }
   ],
   "source": [
    "#cifar10 training and test set with a dataloader\n",
    "trainset = datasets.CIFAR10(root='.', train=True, download=True, transform=transform_train)\n",
    "trainLoader = torch.utils.data.DataLoader(trainset, batch_size=32, shuffle=True, num_workers=2, pin_memory=True, drop_last=True)\n",
    "\n",
    "testset = datasets.CIFAR10(root='.', train=False, download=True, transform=transform_test)\n",
    "classes = testset.classes\n",
    "testLoader = torch.utils.data.DataLoader(testset, batch_size=100, shuffle=False, num_workers=2, pin_memory=True)"
   ]
  },
  {
   "cell_type": "markdown",
   "metadata": {
    "id": "s1nNoF7Sggat",
    "pycharm": {
     "name": "#%% md\n"
    }
   },
   "source": [
    "Plot some samples to get a sense of how they look."
   ]
  },
  {
   "cell_type": "code",
   "execution_count": 4,
   "metadata": {
    "id": "wPnW3AaEDtFl",
    "pycharm": {
     "name": "#%%\n"
    }
   },
   "outputs": [],
   "source": [
    "import matplotlib.pyplot as plt\n",
    "from torchvision.utils import make_grid\n",
    "def show_batch(dl):\n",
    "  for images, label in dl:\n",
    "    fig, ax = plt.subplots(figsize=(10, 10))\n",
    "    image_grid = make_grid(images, 10)\n",
    "    plt.close()\n",
    "    writer.add_image('Data samples', image_grid)\n",
    "    break\n",
    "\n",
    "show_batch(trainLoader)\n",
    "show_batch(testLoader)"
   ]
  },
  {
   "cell_type": "markdown",
   "metadata": {
    "id": "Fh-d9hl1gn7d",
    "pycharm": {
     "name": "#%% md\n"
    }
   },
   "source": [
    "Get working device."
   ]
  },
  {
   "cell_type": "code",
   "execution_count": 5,
   "metadata": {
    "id": "ebNdxRb_gssX",
    "pycharm": {
     "name": "#%%\n"
    }
   },
   "outputs": [],
   "source": [
    "def get_default_device():\n",
    "  return torch.device('cuda') if torch.cuda.is_available() else torch.device('cpu')\n",
    "\n",
    "def to_device(obj, device):\n",
    "  if isinstance(obj, (list, tuple)):\n",
    "    return [to_device(x, device) for x in obj]\n",
    "  \n",
    "  return obj.to(device, non_blocking=True)\n",
    "\n",
    "class DeviceDataLoader():\n",
    "  def __init__(self, dataloader, device):\n",
    "    self.dl = dataloader\n",
    "    self.device = device\n",
    "\n",
    "  def __iter__(self):\n",
    "    for cell in self.dl:\n",
    "      yield to_device(cell, self.device)\n",
    "  \n",
    "  def __len__(self):\n",
    "    return len(self.dl)\n",
    "  \n",
    "device = get_default_device()\n",
    "trainLoader = DeviceDataLoader(trainLoader, device)\n",
    "testLoader = DeviceDataLoader(testLoader, device)"
   ]
  },
  {
   "cell_type": "markdown",
   "metadata": {
    "id": "CeVsuHj4jplQ",
    "pycharm": {
     "name": "#%% md\n"
    }
   },
   "source": [
    "Load the resnet18 model into a new model class."
   ]
  },
  {
   "cell_type": "code",
   "execution_count": 6,
   "metadata": {
    "id": "nJ6lslK1zWzy"
   },
   "outputs": [],
   "source": [
    "class Model(nn.Module):\n",
    "    def __init__(self, _resnet18):\n",
    "        super(Model, self).__init__()\n",
    "        self.conv = _resnet18.conv1\n",
    "        self.first_block = _resnet18.layer1\n",
    "        self.second_block = _resnet18.layer2\n",
    "        self.third_block = _resnet18.layer3\n",
    "        self.fourth_block = _resnet18.layer4\n",
    "        self.max_pooling = _resnet18.maxpool\n",
    "        self.avg_pooling = _resnet18.avgpool\n",
    "        self.batchnorm = _resnet18.bn1\n",
    "        self.fc = nn.Linear(_resnet18.fc.in_features, 10)\n",
    "        self.dropout = nn.Dropout(p=0.3)\n",
    "        self.ReLU = nn.ReLU()\n",
    "        self.flatten = nn.Flatten()\n",
    "        self.softmax = nn.Softmax(dim=-1)\n",
    "\n",
    "    def forward(self, x):\n",
    "        x = self.conv(x)\n",
    "        x = self.batchnorm(x)\n",
    "        x = self.ReLU(x)\n",
    "        x = self.max_pooling(x)\n",
    "        x = self.first_block(x)\n",
    "        x = self.second_block(x)\n",
    "        x = self.third_block(x)\n",
    "        x = self.fourth_block(x)\n",
    "        x = self.avg_pooling(x)\n",
    "        x = self.flatten(x)\n",
    "        x = self.dropout(x)\n",
    "        x = self.fc(x)\n",
    "        x = self.softmax(x)\n",
    "\n",
    "        return x\n",
    "\n",
    "class ChooserModel(nn.Module):\n",
    "    def __init__(self):\n",
    "        super(ChooserModel, self).__init__()\n",
    "        self.fc1 = nn.Linear(30, 10)\n",
    "        self.fc2 = nn.Linear(10, 10)\n",
    "        self.dropout = nn.Dropout(p=0.3)\n",
    "        self.ReLU = nn.ReLU()\n",
    "\n",
    "    def forward(self, x):\n",
    "        x = self.fc1(x)\n",
    "        x = self.ReLU(x)\n",
    "        x = self.dropout(x)\n",
    "        x = self.fc2(x)\n",
    "\n",
    "        return x"
   ]
  },
  {
   "cell_type": "code",
   "execution_count": 7,
   "metadata": {
    "id": "uCJof0Yijw2C",
    "pycharm": {
     "name": "#%%\n"
    }
   },
   "outputs": [],
   "source": [
    "# To increase certainty, I have made an ensemble of 3 models and added a \"chooser\"\n",
    "# network, simple MLP which takes the concatenated output of the ensemble and outputs \n",
    "# a final choice.\n",
    "\n",
    "for param_num, param in enumerate(resnet18.parameters()):\n",
    "  if param_num > 0.5 * len(list(resnet18.parameters())):\n",
    "    param.requires_grad = True\n",
    "  else:\n",
    "    param.requires_grad = False\n",
    "\n",
    "model_dict = {'model1': to_device(Model(resnet18), device), \n",
    "              'model2': to_device(Model(resnet18), device), \n",
    "              'model3': to_device(Model(resnet18), device),\n",
    "              'chooser': to_device(ChooserModel(), device)}"
   ]
  },
  {
   "cell_type": "markdown",
   "metadata": {
    "id": "DQepSFfVjyi4",
    "pycharm": {
     "name": "#%% md\n"
    }
   },
   "source": [
    "Initialize summary writer for log and define criterion and optimizer."
   ]
  },
  {
   "cell_type": "code",
   "execution_count": 8,
   "metadata": {
    "id": "uOfGjFb8j5gq",
    "pycharm": {
     "name": "#%%\n"
    }
   },
   "outputs": [],
   "source": [
    "epochs = 100\n",
    "max_lr = 1e-2\n",
    "criterion = nn.CrossEntropyLoss()\n",
    "\n",
    "p = (set(model_dict['model1'].parameters()) |\n",
    "     set(model_dict['model2'].parameters()) |\n",
    "     set(model_dict['model3'].parameters()) |\n",
    "     set(model_dict['chooser'].parameters()))\n",
    "\n",
    "optimizer = optim.Adam(p, lr=max_lr, weight_decay=1e-5)\n",
    "scheduler = torch.optim.lr_scheduler.OneCycleLR(optimizer, max_lr, epochs * len(trainLoader))"
   ]
  },
  {
   "cell_type": "markdown",
   "metadata": {
    "id": "W9n1PXG1VvOJ",
    "pycharm": {
     "name": "#%% md\n"
    }
   },
   "source": [
    "Define accuracy metrics, train & test loops."
   ]
  },
  {
   "cell_type": "code",
   "execution_count": 9,
   "metadata": {
    "id": "tCGlkD4oVtth"
   },
   "outputs": [],
   "source": [
    "def accuracy(predictions, labels):\n",
    "  predictions, class_id = torch.max(predictions, dim=1)\n",
    "  return torch.tensor(torch.sum(class_id == labels).item() / len(labels))\n",
    "\n",
    "def confusion_matrix(labels, predictions, epoch, categories, accuracy):\n",
    "    data = {'y_Actual': labels,\n",
    "            'y_Predicted': predictions}\n",
    "\n",
    "    df = pd.DataFrame(data, columns=['y_Actual', 'y_Predicted'])\n",
    "    confusion = pd.crosstab(df['y_Actual'], df['y_Predicted'],\n",
    "                            rownames=['Actual'], colnames=['Predicted'],\n",
    "                            margins=True)\n",
    "\n",
    "    for _key in confusion:\n",
    "        confusion[_key] = confusion[_key] / confusion[_key]['All']\n",
    "\n",
    "    heatmap = sn.heatmap(confusion.iloc[0:-1, 0:-1], annot=True,\n",
    "                         xticklabels=categories, yticklabels=categories,\n",
    "                         vmax=1, vmin=0)\n",
    "    plt.title(f'Epoch - {epoch + 1}, Test accuracy - {accuracy*100:.2f}%')\n",
    "    plt.tight_layout(pad=3.0)\n",
    "    plt.show()\n",
    "\n",
    "def train_loop(model_dict, _criterion, dataLoader, _epoch):\n",
    "  for key in model_dict:\n",
    "    model_dict[key].train()\n",
    "\n",
    "  batch_loss = []\n",
    "  print('   Training:')\n",
    "  for i, data in enumerate(tqdm(dataLoader)):      \n",
    "      inputs, labels = data\n",
    "      optimizer.zero_grad()\n",
    "\n",
    "      for ii, key in enumerate(model_dict):\n",
    "        if key != 'chooser':\n",
    "          if ii == 0:\n",
    "            outputs = model_dict[key](inputs)\n",
    "          else:\n",
    "            outputs = torch.cat([outputs, model_dict[key](inputs)], dim=1)\n",
    "      \n",
    "      outputs = model_dict['chooser'](outputs)\n",
    "\n",
    "      loss = _criterion(outputs, labels)\n",
    "      loss.backward()\n",
    "      optimizer.step()\n",
    "      scheduler.step()\n",
    "      batch_loss.append(loss)\n",
    "  \n",
    "  return torch.stack(batch_loss).mean()\n",
    "\n",
    "def eveluation_loop(model_dict, _criterion, dataLoader, _epoch):\n",
    "  for key in model_dict:\n",
    "    model_dict[key].eval()\n",
    "  \n",
    "  batch_loss = []\n",
    "  batch_accuracy = []\n",
    "  print('   Testing:')\n",
    "  for i, data in enumerate(tqdm(dataLoader)):     \n",
    "      inputs, labels = data\n",
    "      with torch.no_grad():\n",
    "        for ii, key in enumerate(model_dict):\n",
    "          if key != 'chooser':\n",
    "            if ii == 0:\n",
    "              outputs = model_dict[key](inputs)\n",
    "            else:\n",
    "              outputs = torch.cat([outputs, model_dict[key](inputs)], dim=1)\n",
    "        \n",
    "        outputs = model_dict['chooser'](outputs)\n",
    "\n",
    "        if i == 0:\n",
    "          all_labels = labels\n",
    "          all_outputs = outputs\n",
    "        else:\n",
    "          torch.cat([all_labels, labels])\n",
    "          torch.cat([all_outputs, outputs])\n",
    "\n",
    "        loss = _criterion(outputs, labels)\n",
    "\n",
    "        acc = accuracy(outputs, labels)\n",
    "        batch_accuracy.append(acc)\n",
    "        batch_loss.append(loss)\n",
    "  confusion_matrix(all_labels.tolist(), torch.argmax(all_outputs, dim=1).tolist(),\n",
    "                   _epoch, classes, torch.stack(batch_accuracy).mean() .item())\n",
    "  \n",
    "  return torch.stack(batch_loss).mean(), torch.stack(batch_accuracy).mean() \n"
   ]
  },
  {
   "cell_type": "code",
   "execution_count": null,
   "metadata": {
    "colab": {
     "base_uri": "https://localhost:8080/",
     "height": 456,
     "referenced_widgets": [
      "5069ea812c074b3dad18493ef87d9105",
      "f8389f18261d42c49b6b538c149c8901",
      "69ffc1474d384575b7259b3ff684b92c",
      "6bf208872bfc45c8aa39aff9ee321878",
      "16b6c0e52f0242c69112c22165b5b8b9",
      "fc57ae80d1234569ba2f2dbed5ad1859",
      "ebefe1f7073f4f5db865b374d433f3a5",
      "3703cc0dc15c4c84b5df83ec928eaac1",
      "1499c24333b6456f936228b0887fd7de",
      "518a41acc1494c63ac7d2db96507a7ff",
      "13b093a91f6e45da8ee2d539b67806f5",
      "751a0aeb55e14d3da801dd1c9d704c87",
      "cff36df542184b3a869068c71dddc58a",
      "72ff6e5abd2c4e5a982309b53bf7f836",
      "a8440297725c471f80f22059601efb64",
      "86ed6b764a7948768ac23ec050245cce",
      "eda68a3bbdb54722b4725c8e9d583cad",
      "07b3da89d970483ebeb1d79dfdce5578",
      "f380ad62164743c78b22629153f9fc1f",
      "a347a02036014c0e800068a7580e2597",
      "ba987af7ec4d4f758ce2b7764628db22",
      "b8d1bbf1bcd640c293cf72118b1b75a5",
      "b510a559223f4c7ba909b44b1c65fdc9",
      "68421ec0a60a4491b0fd309c972d56a4",
      "65c40a3f0240406ca466df907a160ba5",
      "5f476e4e0ce34cb0a228ed45686813f9",
      "0f58a98dc063418d84e00ecd4672854a",
      "ca1959684b4a49989a948c03e3328225",
      "5de7e5b2310c4116be9e7e8f7ae7e413",
      "5d29f35c2cb34d3487e16dcc62a4bf86",
      "9411e830bd714a5d82002372c45eb1c7",
      "f7dcfc07a115495c9e41633d8c57950f",
      "5e109eb9f8f5413093b1f2009eb06ef9",
      "3517b0ad2aca4b77aecf6d249a3daebf",
      "02f29f0593a24bc78e323dce5ff04137",
      "a21ab36e389f409caec80efd670a0f29",
      "33727cda0aa5437893ebb38a774633d8",
      "a33c591e2d4741d8bf844dbf59cb5dd3",
      "a35a20c4265f4a12b67482ff0b8ace65",
      "54b6f02f96f741df8d2a94fc0e564dbc",
      "e2252070a39640978a1fa0f616cf6408",
      "d10fe5c081c04a439eaa318880ffc7b5",
      "79b1d8e8f2dd41eb89926c47047d01c1",
      "8ee50b4e8d4e4eb2b60d3806af7bf070"
     ]
    },
    "id": "lBwN_5aKkDpW",
    "outputId": "c0e35d62-99aa-4ae1-8877-33790b63a141",
    "pycharm": {
     "name": "#%%\n"
    }
   },
   "outputs": [
    {
     "output_type": "display_data",
     "data": {
      "application/vnd.jupyter.widget-view+json": {
       "model_id": "5069ea812c074b3dad18493ef87d9105",
       "version_minor": 0,
       "version_major": 2
      },
      "text/plain": [
       "  0%|          | 0/100 [00:00<?, ?it/s]"
      ]
     },
     "metadata": {}
    },
    {
     "output_type": "stream",
     "name": "stdout",
     "text": [
      "   Training:\n"
     ]
    },
    {
     "output_type": "display_data",
     "data": {
      "application/vnd.jupyter.widget-view+json": {
       "model_id": "751a0aeb55e14d3da801dd1c9d704c87",
       "version_minor": 0,
       "version_major": 2
      },
      "text/plain": [
       "  0%|          | 0/1562 [00:00<?, ?it/s]"
      ]
     },
     "metadata": {}
    },
    {
     "output_type": "stream",
     "name": "stdout",
     "text": [
      "   Testing:\n"
     ]
    },
    {
     "output_type": "display_data",
     "data": {
      "application/vnd.jupyter.widget-view+json": {
       "model_id": "b510a559223f4c7ba909b44b1c65fdc9",
       "version_minor": 0,
       "version_major": 2
      },
      "text/plain": [
       "  0%|          | 0/100 [00:00<?, ?it/s]"
      ]
     },
     "metadata": {}
    },
    {
     "output_type": "display_data",
     "data": {
      "image/png": "[encoded data removed]",
      "text/plain": [
       "<Figure size 432x288 with 2 Axes>"
      ]
     },
     "metadata": {
      "needs_background": "light"
     }
    },
    {
     "output_type": "stream",
     "name": "stdout",
     "text": [
      "epoch 1/100,    {'accuracy': 57.809996604919434, 'test_loss': 1.2897708415985107, 'train_loss': 1.6306102275848389}\n",
      "   Training:\n"
     ]
    },
    {
     "output_type": "display_data",
     "data": {
      "application/vnd.jupyter.widget-view+json": {
       "model_id": "3517b0ad2aca4b77aecf6d249a3daebf",
       "version_minor": 0,
       "version_major": 2
      },
      "text/plain": [
       "  0%|          | 0/1562 [00:00<?, ?it/s]"
      ]
     },
     "metadata": {}
    }
   ],
   "source": [
    "results = []\n",
    "\n",
    "for epoch in tqdm(range(epochs)):\n",
    "  epoch_train_loss = train_loop(model_dict, criterion, trainLoader, epoch)\n",
    "  epoch_test_loss, epoch_accuracy = eveluation_loop(model_dict, criterion, testLoader, epoch)\n",
    "\n",
    "  result = {'accuracy': epoch_accuracy.item() * 100.,\n",
    "            'test_loss': epoch_test_loss.item(),\n",
    "            'train_loss': epoch_train_loss.item()}\n",
    "  results.append(result)\n",
    "  print(f'epoch {epoch + 1}/{epochs},    {result}')\n",
    "\n",
    "  writer.add_scalar('Loss\\Train', epoch_train_loss, epoch)\n",
    "  writer.add_scalar('Loss\\Test', epoch_test_loss, epoch)\n",
    "  writer.add_scalar('Accuracy', epoch_accuracy * 100., epoch)"
   ]
  }
 ],
 "metadata": {
  "accelerator": "GPU",
  "colab": {
   "collapsed_sections": [],
   "name": "AItransfer- Nadav.ipynb",
   "provenance": []
  },
  "kernelspec": {
   "display_name": "Python 3",
   "name": "python3"
  },
  "language_info": {
   "name": "python"
  },
  "widgets": {
   "application/vnd.jupyter.widget-state+json": {
    "5069ea812c074b3dad18493ef87d9105": {
     "model_module": "@jupyter-widgets/controls",
     "model_name": "HBoxModel",
     "model_module_version": "1.5.0",
     "state": {
      "_view_name": "HBoxView",
      "_dom_classes": [],
      "_model_name": "HBoxModel",
      "_view_module": "@jupyter-widgets/controls",
      "_model_module_version": "1.5.0",
      "_view_count": null,
      "_view_module_version": "1.5.0",
      "box_style": "",
      "layout": "IPY_MODEL_f8389f18261d42c49b6b538c149c8901",
      "_model_module": "@jupyter-widgets/controls",
      "children": [
       "IPY_MODEL_69ffc1474d384575b7259b3ff684b92c",
       "IPY_MODEL_6bf208872bfc45c8aa39aff9ee321878",
       "IPY_MODEL_16b6c0e52f0242c69112c22165b5b8b9"
      ]
     }
    },
    "f8389f18261d42c49b6b538c149c8901": {
     "model_module": "@jupyter-widgets/base",
     "model_name": "LayoutModel",
     "model_module_version": "1.2.0",
     "state": {
      "_view_name": "LayoutView",
      "grid_template_rows": null,
      "right": null,
      "justify_content": null,
      "_view_module": "@jupyter-widgets/base",
      "overflow": null,
      "_model_module_version": "1.2.0",
      "_view_count": null,
      "flex_flow": null,
      "width": null,
      "min_width": null,
      "border": null,
      "align_items": null,
      "bottom": null,
      "_model_module": "@jupyter-widgets/base",
      "top": null,
      "grid_column": null,
      "overflow_y": null,
      "overflow_x": null,
      "grid_auto_flow": null,
      "grid_area": null,
      "grid_template_columns": null,
      "flex": null,
      "_model_name": "LayoutModel",
      "justify_items": null,
      "grid_row": null,
      "max_height": null,
      "align_content": null,
      "visibility": null,
      "align_self": null,
      "height": null,
      "min_height": null,
      "padding": null,
      "grid_auto_rows": null,
      "grid_gap": null,
      "max_width": null,
      "order": null,
      "_view_module_version": "1.2.0",
      "grid_template_areas": null,
      "object_position": null,
      "object_fit": null,
      "grid_auto_columns": null,
      "margin": null,
      "display": null,
      "left": null
     }
    },
    "69ffc1474d384575b7259b3ff684b92c": {
     "model_module": "@jupyter-widgets/controls",
     "model_name": "HTMLModel",
     "model_module_version": "1.5.0",
     "state": {
      "_view_name": "HTMLView",
      "style": "IPY_MODEL_fc57ae80d1234569ba2f2dbed5ad1859",
      "_dom_classes": [],
      "description": "",
      "_model_name": "HTMLModel",
      "placeholder": "​",
      "_view_module": "@jupyter-widgets/controls",
      "_model_module_version": "1.5.0",
      "value": "  1%",
      "_view_count": null,
      "_view_module_version": "1.5.0",
      "description_tooltip": null,
      "_model_module": "@jupyter-widgets/controls",
      "layout": "IPY_MODEL_ebefe1f7073f4f5db865b374d433f3a5"
     }
    },
    "6bf208872bfc45c8aa39aff9ee321878": {
     "model_module": "@jupyter-widgets/controls",
     "model_name": "FloatProgressModel",
     "model_module_version": "1.5.0",
     "state": {
      "_view_name": "ProgressView",
      "style": "IPY_MODEL_3703cc0dc15c4c84b5df83ec928eaac1",
      "_dom_classes": [],
      "description": "",
      "_model_name": "FloatProgressModel",
      "bar_style": "",
      "max": 100,
      "_view_module": "@jupyter-widgets/controls",
      "_model_module_version": "1.5.0",
      "value": 1,
      "_view_count": null,
      "_view_module_version": "1.5.0",
      "orientation": "horizontal",
      "min": 0,
      "description_tooltip": null,
      "_model_module": "@jupyter-widgets/controls",
      "layout": "IPY_MODEL_1499c24333b6456f936228b0887fd7de"
     }
    },
    "16b6c0e52f0242c69112c22165b5b8b9": {
     "model_module": "@jupyter-widgets/controls",
     "model_name": "HTMLModel",
     "model_module_version": "1.5.0",
     "state": {
      "_view_name": "HTMLView",
      "style": "IPY_MODEL_518a41acc1494c63ac7d2db96507a7ff",
      "_dom_classes": [],
      "description": "",
      "_model_name": "HTMLModel",
      "placeholder": "​",
      "_view_module": "@jupyter-widgets/controls",
      "_model_module_version": "1.5.0",
      "value": " 1/100 [02:48&lt;4:38:40, 168.89s/it]",
      "_view_count": null,
      "_view_module_version": "1.5.0",
      "description_tooltip": null,
      "_model_module": "@jupyter-widgets/controls",
      "layout": "IPY_MODEL_13b093a91f6e45da8ee2d539b67806f5"
     }
    },
    "fc57ae80d1234569ba2f2dbed5ad1859": {
     "model_module": "@jupyter-widgets/controls",
     "model_name": "DescriptionStyleModel",
     "model_module_version": "1.5.0",
     "state": {
      "_view_name": "StyleView",
      "_model_name": "DescriptionStyleModel",
      "description_width": "",
      "_view_module": "@jupyter-widgets/base",
      "_model_module_version": "1.5.0",
      "_view_count": null,
      "_view_module_version": "1.2.0",
      "_model_module": "@jupyter-widgets/controls"
     }
    },
    "ebefe1f7073f4f5db865b374d433f3a5": {
     "model_module": "@jupyter-widgets/base",
     "model_name": "LayoutModel",
     "model_module_version": "1.2.0",
     "state": {
      "_view_name": "LayoutView",
      "grid_template_rows": null,
      "right": null,
      "justify_content": null,
      "_view_module": "@jupyter-widgets/base",
      "overflow": null,
      "_model_module_version": "1.2.0",
      "_view_count": null,
      "flex_flow": null,
      "width": null,
      "min_width": null,
      "border": null,
      "align_items": null,
      "bottom": null,
      "_model_module": "@jupyter-widgets/base",
      "top": null,
      "grid_column": null,
      "overflow_y": null,
      "overflow_x": null,
      "grid_auto_flow": null,
      "grid_area": null,
      "grid_template_columns": null,
      "flex": null,
      "_model_name": "LayoutModel",
      "justify_items": null,
      "grid_row": null,
      "max_height": null,
      "align_content": null,
      "visibility": null,
      "align_self": null,
      "height": null,
      "min_height": null,
      "padding": null,
      "grid_auto_rows": null,
      "grid_gap": null,
      "max_width": null,
      "order": null,
      "_view_module_version": "1.2.0",
      "grid_template_areas": null,
      "object_position": null,
      "object_fit": null,
      "grid_auto_columns": null,
      "margin": null,
      "display": null,
      "left": null
     }
    },
    "3703cc0dc15c4c84b5df83ec928eaac1": {
     "model_module": "@jupyter-widgets/controls",
     "model_name": "ProgressStyleModel",
     "model_module_version": "1.5.0",
     "state": {
      "_view_name": "StyleView",
      "_model_name": "ProgressStyleModel",
      "description_width": "",
      "_view_module": "@jupyter-widgets/base",
      "_model_module_version": "1.5.0",
      "_view_count": null,
      "_view_module_version": "1.2.0",
      "bar_color": null,
      "_model_module": "@jupyter-widgets/controls"
     }
    },
    "1499c24333b6456f936228b0887fd7de": {
     "model_module": "@jupyter-widgets/base",
     "model_name": "LayoutModel",
     "model_module_version": "1.2.0",
     "state": {
      "_view_name": "LayoutView",
      "grid_template_rows": null,
      "right": null,
      "justify_content": null,
      "_view_module": "@jupyter-widgets/base",
      "overflow": null,
      "_model_module_version": "1.2.0",
      "_view_count": null,
      "flex_flow": null,
      "width": null,
      "min_width": null,
      "border": null,
      "align_items": null,
      "bottom": null,
      "_model_module": "@jupyter-widgets/base",
      "top": null,
      "grid_column": null,
      "overflow_y": null,
      "overflow_x": null,
      "grid_auto_flow": null,
      "grid_area": null,
      "grid_template_columns": null,
      "flex": null,
      "_model_name": "LayoutModel",
      "justify_items": null,
      "grid_row": null,
      "max_height": null,
      "align_content": null,
      "visibility": null,
      "align_self": null,
      "height": null,
      "min_height": null,
      "padding": null,
      "grid_auto_rows": null,
      "grid_gap": null,
      "max_width": null,
      "order": null,
      "_view_module_version": "1.2.0",
      "grid_template_areas": null,
      "object_position": null,
      "object_fit": null,
      "grid_auto_columns": null,
      "margin": null,
      "display": null,
      "left": null
     }
    },
    "518a41acc1494c63ac7d2db96507a7ff": {
     "model_module": "@jupyter-widgets/controls",
     "model_name": "DescriptionStyleModel",
     "model_module_version": "1.5.0",
     "state": {
      "_view_name": "StyleView",
      "_model_name": "DescriptionStyleModel",
      "description_width": "",
      "_view_module": "@jupyter-widgets/base",
      "_model_module_version": "1.5.0",
      "_view_count": null,
      "_view_module_version": "1.2.0",
      "_model_module": "@jupyter-widgets/controls"
     }
    },
    "13b093a91f6e45da8ee2d539b67806f5": {
     "model_module": "@jupyter-widgets/base",
     "model_name": "LayoutModel",
     "model_module_version": "1.2.0",
     "state": {
      "_view_name": "LayoutView",
      "grid_template_rows": null,
      "right": null,
      "justify_content": null,
      "_view_module": "@jupyter-widgets/base",
      "overflow": null,
      "_model_module_version": "1.2.0",
      "_view_count": null,
      "flex_flow": null,
      "width": null,
      "min_width": null,
      "border": null,
      "align_items": null,
      "bottom": null,
      "_model_module": "@jupyter-widgets/base",
      "top": null,
      "grid_column": null,
      "overflow_y": null,
      "overflow_x": null,
      "grid_auto_flow": null,
      "grid_area": null,
      "grid_template_columns": null,
      "flex": null,
      "_model_name": "LayoutModel",
      "justify_items": null,
      "grid_row": null,
      "max_height": null,
      "align_content": null,
      "visibility": null,
      "align_self": null,
      "height": null,
      "min_height": null,
      "padding": null,
      "grid_auto_rows": null,
      "grid_gap": null,
      "max_width": null,
      "order": null,
      "_view_module_version": "1.2.0",
      "grid_template_areas": null,
      "object_position": null,
      "object_fit": null,
      "grid_auto_columns": null,
      "margin": null,
      "display": null,
      "left": null
     }
    },
    "751a0aeb55e14d3da801dd1c9d704c87": {
     "model_module": "@jupyter-widgets/controls",
     "model_name": "HBoxModel",
     "model_module_version": "1.5.0",
     "state": {
      "_view_name": "HBoxView",
      "_dom_classes": [],
      "_model_name": "HBoxModel",
      "_view_module": "@jupyter-widgets/controls",
      "_model_module_version": "1.5.0",
      "_view_count": null,
      "_view_module_version": "1.5.0",
      "box_style": "",
      "layout": "IPY_MODEL_cff36df542184b3a869068c71dddc58a",
      "_model_module": "@jupyter-widgets/controls",
      "children": [
       "IPY_MODEL_72ff6e5abd2c4e5a982309b53bf7f836",
       "IPY_MODEL_a8440297725c471f80f22059601efb64",
       "IPY_MODEL_86ed6b764a7948768ac23ec050245cce"
      ]
     }
    },
    "cff36df542184b3a869068c71dddc58a": {
     "model_module": "@jupyter-widgets/base",
     "model_name": "LayoutModel",
     "model_module_version": "1.2.0",
     "state": {
      "_view_name": "LayoutView",
      "grid_template_rows": null,
      "right": null,
      "justify_content": null,
      "_view_module": "@jupyter-widgets/base",
      "overflow": null,
      "_model_module_version": "1.2.0",
      "_view_count": null,
      "flex_flow": null,
      "width": null,
      "min_width": null,
      "border": null,
      "align_items": null,
      "bottom": null,
      "_model_module": "@jupyter-widgets/base",
      "top": null,
      "grid_column": null,
      "overflow_y": null,
      "overflow_x": null,
      "grid_auto_flow": null,
      "grid_area": null,
      "grid_template_columns": null,
      "flex": null,
      "_model_name": "LayoutModel",
      "justify_items": null,
      "grid_row": null,
      "max_height": null,
      "align_content": null,
      "visibility": null,
      "align_self": null,
      "height": null,
      "min_height": null,
      "padding": null,
      "grid_auto_rows": null,
      "grid_gap": null,
      "max_width": null,
      "order": null,
      "_view_module_version": "1.2.0",
      "grid_template_areas": null,
      "object_position": null,
      "object_fit": null,
      "grid_auto_columns": null,
      "margin": null,
      "display": null,
      "left": null
     }
    },
    "72ff6e5abd2c4e5a982309b53bf7f836": {
     "model_module": "@jupyter-widgets/controls",
     "model_name": "HTMLModel",
     "model_module_version": "1.5.0",
     "state": {
      "_view_name": "HTMLView",
      "style": "IPY_MODEL_eda68a3bbdb54722b4725c8e9d583cad",
      "_dom_classes": [],
      "description": "",
      "_model_name": "HTMLModel",
      "placeholder": "​",
      "_view_module": "@jupyter-widgets/controls",
      "_model_module_version": "1.5.0",
      "value": "100%",
      "_view_count": null,
      "_view_module_version": "1.5.0",
      "description_tooltip": null,
      "_model_module": "@jupyter-widgets/controls",
      "layout": "IPY_MODEL_07b3da89d970483ebeb1d79dfdce5578"
     }
    },
    "a8440297725c471f80f22059601efb64": {
     "model_module": "@jupyter-widgets/controls",
     "model_name": "FloatProgressModel",
     "model_module_version": "1.5.0",
     "state": {
      "_view_name": "ProgressView",
      "style": "IPY_MODEL_f380ad62164743c78b22629153f9fc1f",
      "_dom_classes": [],
      "description": "",
      "_model_name": "FloatProgressModel",
      "bar_style": "success",
      "max": 1562,
      "_view_module": "@jupyter-widgets/controls",
      "_model_module_version": "1.5.0",
      "value": 1562,
      "_view_count": null,
      "_view_module_version": "1.5.0",
      "orientation": "horizontal",
      "min": 0,
      "description_tooltip": null,
      "_model_module": "@jupyter-widgets/controls",
      "layout": "IPY_MODEL_a347a02036014c0e800068a7580e2597"
     }
    },
    "86ed6b764a7948768ac23ec050245cce": {
     "model_module": "@jupyter-widgets/controls",
     "model_name": "HTMLModel",
     "model_module_version": "1.5.0",
     "state": {
      "_view_name": "HTMLView",
      "style": "IPY_MODEL_ba987af7ec4d4f758ce2b7764628db22",
      "_dom_classes": [],
      "description": "",
      "_model_name": "HTMLModel",
      "placeholder": "​",
      "_view_module": "@jupyter-widgets/controls",
      "_model_module_version": "1.5.0",
      "value": " 1562/1562 [02:41&lt;00:00,  9.91it/s]",
      "_view_count": null,
      "_view_module_version": "1.5.0",
      "description_tooltip": null,
      "_model_module": "@jupyter-widgets/controls",
      "layout": "IPY_MODEL_b8d1bbf1bcd640c293cf72118b1b75a5"
     }
    },
    "eda68a3bbdb54722b4725c8e9d583cad": {
     "model_module": "@jupyter-widgets/controls",
     "model_name": "DescriptionStyleModel",
     "model_module_version": "1.5.0",
     "state": {
      "_view_name": "StyleView",
      "_model_name": "DescriptionStyleModel",
      "description_width": "",
      "_view_module": "@jupyter-widgets/base",
      "_model_module_version": "1.5.0",
      "_view_count": null,
      "_view_module_version": "1.2.0",
      "_model_module": "@jupyter-widgets/controls"
     }
    },
    "07b3da89d970483ebeb1d79dfdce5578": {
     "model_module": "@jupyter-widgets/base",
     "model_name": "LayoutModel",
     "model_module_version": "1.2.0",
     "state": {
      "_view_name": "LayoutView",
      "grid_template_rows": null,
      "right": null,
      "justify_content": null,
      "_view_module": "@jupyter-widgets/base",
      "overflow": null,
      "_model_module_version": "1.2.0",
      "_view_count": null,
      "flex_flow": null,
      "width": null,
      "min_width": null,
      "border": null,
      "align_items": null,
      "bottom": null,
      "_model_module": "@jupyter-widgets/base",
      "top": null,
      "grid_column": null,
      "overflow_y": null,
      "overflow_x": null,
      "grid_auto_flow": null,
      "grid_area": null,
      "grid_template_columns": null,
      "flex": null,
      "_model_name": "LayoutModel",
      "justify_items": null,
      "grid_row": null,
      "max_height": null,
      "align_content": null,
      "visibility": null,
      "align_self": null,
      "height": null,
      "min_height": null,
      "padding": null,
      "grid_auto_rows": null,
      "grid_gap": null,
      "max_width": null,
      "order": null,
      "_view_module_version": "1.2.0",
      "grid_template_areas": null,
      "object_position": null,
      "object_fit": null,
      "grid_auto_columns": null,
      "margin": null,
      "display": null,
      "left": null
     }
    },
    "f380ad62164743c78b22629153f9fc1f": {
     "model_module": "@jupyter-widgets/controls",
     "model_name": "ProgressStyleModel",
     "model_module_version": "1.5.0",
     "state": {
      "_view_name": "StyleView",
      "_model_name": "ProgressStyleModel",
      "description_width": "",
      "_view_module": "@jupyter-widgets/base",
      "_model_module_version": "1.5.0",
      "_view_count": null,
      "_view_module_version": "1.2.0",
      "bar_color": null,
      "_model_module": "@jupyter-widgets/controls"
     }
    },
    "a347a02036014c0e800068a7580e2597": {
     "model_module": "@jupyter-widgets/base",
     "model_name": "LayoutModel",
     "model_module_version": "1.2.0",
     "state": {
      "_view_name": "LayoutView",
      "grid_template_rows": null,
      "right": null,
      "justify_content": null,
      "_view_module": "@jupyter-widgets/base",
      "overflow": null,
      "_model_module_version": "1.2.0",
      "_view_count": null,
      "flex_flow": null,
      "width": null,
      "min_width": null,
      "border": null,
      "align_items": null,
      "bottom": null,
      "_model_module": "@jupyter-widgets/base",
      "top": null,
      "grid_column": null,
      "overflow_y": null,
      "overflow_x": null,
      "grid_auto_flow": null,
      "grid_area": null,
      "grid_template_columns": null,
      "flex": null,
      "_model_name": "LayoutModel",
      "justify_items": null,
      "grid_row": null,
      "max_height": null,
      "align_content": null,
      "visibility": null,
      "align_self": null,
      "height": null,
      "min_height": null,
      "padding": null,
      "grid_auto_rows": null,
      "grid_gap": null,
      "max_width": null,
      "order": null,
      "_view_module_version": "1.2.0",
      "grid_template_areas": null,
      "object_position": null,
      "object_fit": null,
      "grid_auto_columns": null,
      "margin": null,
      "display": null,
      "left": null
     }
    },
    "ba987af7ec4d4f758ce2b7764628db22": {
     "model_module": "@jupyter-widgets/controls",
     "model_name": "DescriptionStyleModel",
     "model_module_version": "1.5.0",
     "state": {
      "_view_name": "StyleView",
      "_model_name": "DescriptionStyleModel",
      "description_width": "",
      "_view_module": "@jupyter-widgets/base",
      "_model_module_version": "1.5.0",
      "_view_count": null,
      "_view_module_version": "1.2.0",
      "_model_module": "@jupyter-widgets/controls"
     }
    },
    "b8d1bbf1bcd640c293cf72118b1b75a5": {
     "model_module": "@jupyter-widgets/base",
     "model_name": "LayoutModel",
     "model_module_version": "1.2.0",
     "state": {
      "_view_name": "LayoutView",
      "grid_template_rows": null,
      "right": null,
      "justify_content": null,
      "_view_module": "@jupyter-widgets/base",
      "overflow": null,
      "_model_module_version": "1.2.0",
      "_view_count": null,
      "flex_flow": null,
      "width": null,
      "min_width": null,
      "border": null,
      "align_items": null,
      "bottom": null,
      "_model_module": "@jupyter-widgets/base",
      "top": null,
      "grid_column": null,
      "overflow_y": null,
      "overflow_x": null,
      "grid_auto_flow": null,
      "grid_area": null,
      "grid_template_columns": null,
      "flex": null,
      "_model_name": "LayoutModel",
      "justify_items": null,
      "grid_row": null,
      "max_height": null,
      "align_content": null,
      "visibility": null,
      "align_self": null,
      "height": null,
      "min_height": null,
      "padding": null,
      "grid_auto_rows": null,
      "grid_gap": null,
      "max_width": null,
      "order": null,
      "_view_module_version": "1.2.0",
      "grid_template_areas": null,
      "object_position": null,
      "object_fit": null,
      "grid_auto_columns": null,
      "margin": null,
      "display": null,
      "left": null
     }
    },
    "b510a559223f4c7ba909b44b1c65fdc9": {
     "model_module": "@jupyter-widgets/controls",
     "model_name": "HBoxModel",
     "model_module_version": "1.5.0",
     "state": {
      "_view_name": "HBoxView",
      "_dom_classes": [],
      "_model_name": "HBoxModel",
      "_view_module": "@jupyter-widgets/controls",
      "_model_module_version": "1.5.0",
      "_view_count": null,
      "_view_module_version": "1.5.0",
      "box_style": "",
      "layout": "IPY_MODEL_68421ec0a60a4491b0fd309c972d56a4",
      "_model_module": "@jupyter-widgets/controls",
      "children": [
       "IPY_MODEL_65c40a3f0240406ca466df907a160ba5",
       "IPY_MODEL_5f476e4e0ce34cb0a228ed45686813f9",
       "IPY_MODEL_0f58a98dc063418d84e00ecd4672854a"
      ]
     }
    },
    "68421ec0a60a4491b0fd309c972d56a4": {
     "model_module": "@jupyter-widgets/base",
     "model_name": "LayoutModel",
     "model_module_version": "1.2.0",
     "state": {
      "_view_name": "LayoutView",
      "grid_template_rows": null,
      "right": null,
      "justify_content": null,
      "_view_module": "@jupyter-widgets/base",
      "overflow": null,
      "_model_module_version": "1.2.0",
      "_view_count": null,
      "flex_flow": null,
      "width": null,
      "min_width": null,
      "border": null,
      "align_items": null,
      "bottom": null,
      "_model_module": "@jupyter-widgets/base",
      "top": null,
      "grid_column": null,
      "overflow_y": null,
      "overflow_x": null,
      "grid_auto_flow": null,
      "grid_area": null,
      "grid_template_columns": null,
      "flex": null,
      "_model_name": "LayoutModel",
      "justify_items": null,
      "grid_row": null,
      "max_height": null,
      "align_content": null,
      "visibility": null,
      "align_self": null,
      "height": null,
      "min_height": null,
      "padding": null,
      "grid_auto_rows": null,
      "grid_gap": null,
      "max_width": null,
      "order": null,
      "_view_module_version": "1.2.0",
      "grid_template_areas": null,
      "object_position": null,
      "object_fit": null,
      "grid_auto_columns": null,
      "margin": null,
      "display": null,
      "left": null
     }
    },
    "65c40a3f0240406ca466df907a160ba5": {
     "model_module": "@jupyter-widgets/controls",
     "model_name": "HTMLModel",
     "model_module_version": "1.5.0",
     "state": {
      "_view_name": "HTMLView",
      "style": "IPY_MODEL_ca1959684b4a49989a948c03e3328225",
      "_dom_classes": [],
      "description": "",
      "_model_name": "HTMLModel",
      "placeholder": "​",
      "_view_module": "@jupyter-widgets/controls",
      "_model_module_version": "1.5.0",
      "value": "100%",
      "_view_count": null,
      "_view_module_version": "1.5.0",
      "description_tooltip": null,
      "_model_module": "@jupyter-widgets/controls",
      "layout": "IPY_MODEL_5de7e5b2310c4116be9e7e8f7ae7e413"
     }
    },
    "5f476e4e0ce34cb0a228ed45686813f9": {
     "model_module": "@jupyter-widgets/controls",
     "model_name": "FloatProgressModel",
     "model_module_version": "1.5.0",
     "state": {
      "_view_name": "ProgressView",
      "style": "IPY_MODEL_5d29f35c2cb34d3487e16dcc62a4bf86",
      "_dom_classes": [],
      "description": "",
      "_model_name": "FloatProgressModel",
      "bar_style": "success",
      "max": 100,
      "_view_module": "@jupyter-widgets/controls",
      "_model_module_version": "1.5.0",
      "value": 100,
      "_view_count": null,
      "_view_module_version": "1.5.0",
      "orientation": "horizontal",
      "min": 0,
      "description_tooltip": null,
      "_model_module": "@jupyter-widgets/controls",
      "layout": "IPY_MODEL_9411e830bd714a5d82002372c45eb1c7"
     }
    },
    "0f58a98dc063418d84e00ecd4672854a": {
     "model_module": "@jupyter-widgets/controls",
     "model_name": "HTMLModel",
     "model_module_version": "1.5.0",
     "state": {
      "_view_name": "HTMLView",
      "style": "IPY_MODEL_f7dcfc07a115495c9e41633d8c57950f",
      "_dom_classes": [],
      "description": "",
      "_model_name": "HTMLModel",
      "placeholder": "​",
      "_view_module": "@jupyter-widgets/controls",
      "_model_module_version": "1.5.0",
      "value": " 100/100 [00:06&lt;00:00, 18.39it/s]",
      "_view_count": null,
      "_view_module_version": "1.5.0",
      "description_tooltip": null,
      "_model_module": "@jupyter-widgets/controls",
      "layout": "IPY_MODEL_5e109eb9f8f5413093b1f2009eb06ef9"
     }
    },
    "ca1959684b4a49989a948c03e3328225": {
     "model_module": "@jupyter-widgets/controls",
     "model_name": "DescriptionStyleModel",
     "model_module_version": "1.5.0",
     "state": {
      "_view_name": "StyleView",
      "_model_name": "DescriptionStyleModel",
      "description_width": "",
      "_view_module": "@jupyter-widgets/base",
      "_model_module_version": "1.5.0",
      "_view_count": null,
      "_view_module_version": "1.2.0",
      "_model_module": "@jupyter-widgets/controls"
     }
    },
    "5de7e5b2310c4116be9e7e8f7ae7e413": {
     "model_module": "@jupyter-widgets/base",
     "model_name": "LayoutModel",
     "model_module_version": "1.2.0",
     "state": {
      "_view_name": "LayoutView",
      "grid_template_rows": null,
      "right": null,
      "justify_content": null,
      "_view_module": "@jupyter-widgets/base",
      "overflow": null,
      "_model_module_version": "1.2.0",
      "_view_count": null,
      "flex_flow": null,
      "width": null,
      "min_width": null,
      "border": null,
      "align_items": null,
      "bottom": null,
      "_model_module": "@jupyter-widgets/base",
      "top": null,
      "grid_column": null,
      "overflow_y": null,
      "overflow_x": null,
      "grid_auto_flow": null,
      "grid_area": null,
      "grid_template_columns": null,
      "flex": null,
      "_model_name": "LayoutModel",
      "justify_items": null,
      "grid_row": null,
      "max_height": null,
      "align_content": null,
      "visibility": null,
      "align_self": null,
      "height": null,
      "min_height": null,
      "padding": null,
      "grid_auto_rows": null,
      "grid_gap": null,
      "max_width": null,
      "order": null,
      "_view_module_version": "1.2.0",
      "grid_template_areas": null,
      "object_position": null,
      "object_fit": null,
      "grid_auto_columns": null,
      "margin": null,
      "display": null,
      "left": null
     }
    },
    "5d29f35c2cb34d3487e16dcc62a4bf86": {
     "model_module": "@jupyter-widgets/controls",
     "model_name": "ProgressStyleModel",
     "model_module_version": "1.5.0",
     "state": {
      "_view_name": "StyleView",
      "_model_name": "ProgressStyleModel",
      "description_width": "",
      "_view_module": "@jupyter-widgets/base",
      "_model_module_version": "1.5.0",
      "_view_count": null,
      "_view_module_version": "1.2.0",
      "bar_color": null,
      "_model_module": "@jupyter-widgets/controls"
     }
    },
    "9411e830bd714a5d82002372c45eb1c7": {
     "model_module": "@jupyter-widgets/base",
     "model_name": "LayoutModel",
     "model_module_version": "1.2.0",
     "state": {
      "_view_name": "LayoutView",
      "grid_template_rows": null,
      "right": null,
      "justify_content": null,
      "_view_module": "@jupyter-widgets/base",
      "overflow": null,
      "_model_module_version": "1.2.0",
      "_view_count": null,
      "flex_flow": null,
      "width": null,
      "min_width": null,
      "border": null,
      "align_items": null,
      "bottom": null,
      "_model_module": "@jupyter-widgets/base",
      "top": null,
      "grid_column": null,
      "overflow_y": null,
      "overflow_x": null,
      "grid_auto_flow": null,
      "grid_area": null,
      "grid_template_columns": null,
      "flex": null,
      "_model_name": "LayoutModel",
      "justify_items": null,
      "grid_row": null,
      "max_height": null,
      "align_content": null,
      "visibility": null,
      "align_self": null,
      "height": null,
      "min_height": null,
      "padding": null,
      "grid_auto_rows": null,
      "grid_gap": null,
      "max_width": null,
      "order": null,
      "_view_module_version": "1.2.0",
      "grid_template_areas": null,
      "object_position": null,
      "object_fit": null,
      "grid_auto_columns": null,
      "margin": null,
      "display": null,
      "left": null
     }
    },
    "f7dcfc07a115495c9e41633d8c57950f": {
     "model_module": "@jupyter-widgets/controls",
     "model_name": "DescriptionStyleModel",
     "model_module_version": "1.5.0",
     "state": {
      "_view_name": "StyleView",
      "_model_name": "DescriptionStyleModel",
      "description_width": "",
      "_view_module": "@jupyter-widgets/base",
      "_model_module_version": "1.5.0",
      "_view_count": null,
      "_view_module_version": "1.2.0",
      "_model_module": "@jupyter-widgets/controls"
     }
    },
    "5e109eb9f8f5413093b1f2009eb06ef9": {
     "model_module": "@jupyter-widgets/base",
     "model_name": "LayoutModel",
     "model_module_version": "1.2.0",
     "state": {
      "_view_name": "LayoutView",
      "grid_template_rows": null,
      "right": null,
      "justify_content": null,
      "_view_module": "@jupyter-widgets/base",
      "overflow": null,
      "_model_module_version": "1.2.0",
      "_view_count": null,
      "flex_flow": null,
      "width": null,
      "min_width": null,
      "border": null,
      "align_items": null,
      "bottom": null,
      "_model_module": "@jupyter-widgets/base",
      "top": null,
      "grid_column": null,
      "overflow_y": null,
      "overflow_x": null,
      "grid_auto_flow": null,
      "grid_area": null,
      "grid_template_columns": null,
      "flex": null,
      "_model_name": "LayoutModel",
      "justify_items": null,
      "grid_row": null,
      "max_height": null,
      "align_content": null,
      "visibility": null,
      "align_self": null,
      "height": null,
      "min_height": null,
      "padding": null,
      "grid_auto_rows": null,
      "grid_gap": null,
      "max_width": null,
      "order": null,
      "_view_module_version": "1.2.0",
      "grid_template_areas": null,
      "object_position": null,
      "object_fit": null,
      "grid_auto_columns": null,
      "margin": null,
      "display": null,
      "left": null
     }
    },
    "3517b0ad2aca4b77aecf6d249a3daebf": {
     "model_module": "@jupyter-widgets/controls",
     "model_name": "HBoxModel",
     "model_module_version": "1.5.0",
     "state": {
      "_view_name": "HBoxView",
      "_dom_classes": [],
      "_model_name": "HBoxModel",
      "_view_module": "@jupyter-widgets/controls",
      "_model_module_version": "1.5.0",
      "_view_count": null,
      "_view_module_version": "1.5.0",
      "box_style": "",
      "layout": "IPY_MODEL_02f29f0593a24bc78e323dce5ff04137",
      "_model_module": "@jupyter-widgets/controls",
      "children": [
       "IPY_MODEL_a21ab36e389f409caec80efd670a0f29",
       "IPY_MODEL_33727cda0aa5437893ebb38a774633d8",
       "IPY_MODEL_a33c591e2d4741d8bf844dbf59cb5dd3"
      ]
     }
    },
    "02f29f0593a24bc78e323dce5ff04137": {
     "model_module": "@jupyter-widgets/base",
     "model_name": "LayoutModel",
     "model_module_version": "1.2.0",
     "state": {
      "_view_name": "LayoutView",
      "grid_template_rows": null,
      "right": null,
      "justify_content": null,
      "_view_module": "@jupyter-widgets/base",
      "overflow": null,
      "_model_module_version": "1.2.0",
      "_view_count": null,
      "flex_flow": null,
      "width": null,
      "min_width": null,
      "border": null,
      "align_items": null,
      "bottom": null,
      "_model_module": "@jupyter-widgets/base",
      "top": null,
      "grid_column": null,
      "overflow_y": null,
      "overflow_x": null,
      "grid_auto_flow": null,
      "grid_area": null,
      "grid_template_columns": null,
      "flex": null,
      "_model_name": "LayoutModel",
      "justify_items": null,
      "grid_row": null,
      "max_height": null,
      "align_content": null,
      "visibility": null,
      "align_self": null,
      "height": null,
      "min_height": null,
      "padding": null,
      "grid_auto_rows": null,
      "grid_gap": null,
      "max_width": null,
      "order": null,
      "_view_module_version": "1.2.0",
      "grid_template_areas": null,
      "object_position": null,
      "object_fit": null,
      "grid_auto_columns": null,
      "margin": null,
      "display": null,
      "left": null
     }
    },
    "a21ab36e389f409caec80efd670a0f29": {
     "model_module": "@jupyter-widgets/controls",
     "model_name": "HTMLModel",
     "model_module_version": "1.5.0",
     "state": {
      "_view_name": "HTMLView",
      "style": "IPY_MODEL_a35a20c4265f4a12b67482ff0b8ace65",
      "_dom_classes": [],
      "description": "",
      "_model_name": "HTMLModel",
      "placeholder": "​",
      "_view_module": "@jupyter-widgets/controls",
      "_model_module_version": "1.5.0",
      "value": " 14%",
      "_view_count": null,
      "_view_module_version": "1.5.0",
      "description_tooltip": null,
      "_model_module": "@jupyter-widgets/controls",
      "layout": "IPY_MODEL_54b6f02f96f741df8d2a94fc0e564dbc"
     }
    },
    "33727cda0aa5437893ebb38a774633d8": {
     "model_module": "@jupyter-widgets/controls",
     "model_name": "FloatProgressModel",
     "model_module_version": "1.5.0",
     "state": {
      "_view_name": "ProgressView",
      "style": "IPY_MODEL_e2252070a39640978a1fa0f616cf6408",
      "_dom_classes": [],
      "description": "",
      "_model_name": "FloatProgressModel",
      "bar_style": "",
      "max": 1562,
      "_view_module": "@jupyter-widgets/controls",
      "_model_module_version": "1.5.0",
      "value": 212,
      "_view_count": null,
      "_view_module_version": "1.5.0",
      "orientation": "horizontal",
      "min": 0,
      "description_tooltip": null,
      "_model_module": "@jupyter-widgets/controls",
      "layout": "IPY_MODEL_d10fe5c081c04a439eaa318880ffc7b5"
     }
    },
    "a33c591e2d4741d8bf844dbf59cb5dd3": {
     "model_module": "@jupyter-widgets/controls",
     "model_name": "HTMLModel",
     "model_module_version": "1.5.0",
     "state": {
      "_view_name": "HTMLView",
      "style": "IPY_MODEL_79b1d8e8f2dd41eb89926c47047d01c1",
      "_dom_classes": [],
      "description": "",
      "_model_name": "HTMLModel",
      "placeholder": "​",
      "_view_module": "@jupyter-widgets/controls",
      "_model_module_version": "1.5.0",
      "value": " 211/1562 [00:21&lt;02:16,  9.89it/s]",
      "_view_count": null,
      "_view_module_version": "1.5.0",
      "description_tooltip": null,
      "_model_module": "@jupyter-widgets/controls",
      "layout": "IPY_MODEL_8ee50b4e8d4e4eb2b60d3806af7bf070"
     }
    },
    "a35a20c4265f4a12b67482ff0b8ace65": {
     "model_module": "@jupyter-widgets/controls",
     "model_name": "DescriptionStyleModel",
     "model_module_version": "1.5.0",
     "state": {
      "_view_name": "StyleView",
      "_model_name": "DescriptionStyleModel",
      "description_width": "",
      "_view_module": "@jupyter-widgets/base",
      "_model_module_version": "1.5.0",
      "_view_count": null,
      "_view_module_version": "1.2.0",
      "_model_module": "@jupyter-widgets/controls"
     }
    },
    "54b6f02f96f741df8d2a94fc0e564dbc": {
     "model_module": "@jupyter-widgets/base",
     "model_name": "LayoutModel",
     "model_module_version": "1.2.0",
     "state": {
      "_view_name": "LayoutView",
      "grid_template_rows": null,
      "right": null,
      "justify_content": null,
      "_view_module": "@jupyter-widgets/base",
      "overflow": null,
      "_model_module_version": "1.2.0",
      "_view_count": null,
      "flex_flow": null,
      "width": null,
      "min_width": null,
      "border": null,
      "align_items": null,
      "bottom": null,
      "_model_module": "@jupyter-widgets/base",
      "top": null,
      "grid_column": null,
      "overflow_y": null,
      "overflow_x": null,
      "grid_auto_flow": null,
      "grid_area": null,
      "grid_template_columns": null,
      "flex": null,
      "_model_name": "LayoutModel",
      "justify_items": null,
      "grid_row": null,
      "max_height": null,
      "align_content": null,
      "visibility": null,
      "align_self": null,
      "height": null,
      "min_height": null,
      "padding": null,
      "grid_auto_rows": null,
      "grid_gap": null,
      "max_width": null,
      "order": null,
      "_view_module_version": "1.2.0",
      "grid_template_areas": null,
      "object_position": null,
      "object_fit": null,
      "grid_auto_columns": null,
      "margin": null,
      "display": null,
      "left": null
     }
    },
    "e2252070a39640978a1fa0f616cf6408": {
     "model_module": "@jupyter-widgets/controls",
     "model_name": "ProgressStyleModel",
     "model_module_version": "1.5.0",
     "state": {
      "_view_name": "StyleView",
      "_model_name": "ProgressStyleModel",
      "description_width": "",
      "_view_module": "@jupyter-widgets/base",
      "_model_module_version": "1.5.0",
      "_view_count": null,
      "_view_module_version": "1.2.0",
      "bar_color": null,
      "_model_module": "@jupyter-widgets/controls"
     }
    },
    "d10fe5c081c04a439eaa318880ffc7b5": {
     "model_module": "@jupyter-widgets/base",
     "model_name": "LayoutModel",
     "model_module_version": "1.2.0",
     "state": {
      "_view_name": "LayoutView",
      "grid_template_rows": null,
      "right": null,
      "justify_content": null,
      "_view_module": "@jupyter-widgets/base",
      "overflow": null,
      "_model_module_version": "1.2.0",
      "_view_count": null,
      "flex_flow": null,
      "width": null,
      "min_width": null,
      "border": null,
      "align_items": null,
      "bottom": null,
      "_model_module": "@jupyter-widgets/base",
      "top": null,
      "grid_column": null,
      "overflow_y": null,
      "overflow_x": null,
      "grid_auto_flow": null,
      "grid_area": null,
      "grid_template_columns": null,
      "flex": null,
      "_model_name": "LayoutModel",
      "justify_items": null,
      "grid_row": null,
      "max_height": null,
      "align_content": null,
      "visibility": null,
      "align_self": null,
      "height": null,
      "min_height": null,
      "padding": null,
      "grid_auto_rows": null,
      "grid_gap": null,
      "max_width": null,
      "order": null,
      "_view_module_version": "1.2.0",
      "grid_template_areas": null,
      "object_position": null,
      "object_fit": null,
      "grid_auto_columns": null,
      "margin": null,
      "display": null,
      "left": null
     }
    },
    "79b1d8e8f2dd41eb89926c47047d01c1": {
     "model_module": "@jupyter-widgets/controls",
     "model_name": "DescriptionStyleModel",
     "model_module_version": "1.5.0",
     "state": {
      "_view_name": "StyleView",
      "_model_name": "DescriptionStyleModel",
      "description_width": "",
      "_view_module": "@jupyter-widgets/base",
      "_model_module_version": "1.5.0",
      "_view_count": null,
      "_view_module_version": "1.2.0",
      "_model_module": "@jupyter-widgets/controls"
     }
    },
    "8ee50b4e8d4e4eb2b60d3806af7bf070": {
     "model_module": "@jupyter-widgets/base",
     "model_name": "LayoutModel",
     "model_module_version": "1.2.0",
     "state": {
      "_view_name": "LayoutView",
      "grid_template_rows": null,
      "right": null,
      "justify_content": null,
      "_view_module": "@jupyter-widgets/base",
      "overflow": null,
      "_model_module_version": "1.2.0",
      "_view_count": null,
      "flex_flow": null,
      "width": null,
      "min_width": null,
      "border": null,
      "align_items": null,
      "bottom": null,
      "_model_module": "@jupyter-widgets/base",
      "top": null,
      "grid_column": null,
      "overflow_y": null,
      "overflow_x": null,
      "grid_auto_flow": null,
      "grid_area": null,
      "grid_template_columns": null,
      "flex": null,
      "_model_name": "LayoutModel",
      "justify_items": null,
      "grid_row": null,
      "max_height": null,
      "align_content": null,
      "visibility": null,
      "align_self": null,
      "height": null,
      "min_height": null,
      "padding": null,
      "grid_auto_rows": null,
      "grid_gap": null,
      "max_width": null,
      "order": null,
      "_view_module_version": "1.2.0",
      "grid_template_areas": null,
      "object_position": null,
      "object_fit": null,
      "grid_auto_columns": null,
      "margin": null,
      "display": null,
      "left": null
     }
    }
   }
  }
 },
 "nbformat": 4,
 "nbformat_minor": 0
}